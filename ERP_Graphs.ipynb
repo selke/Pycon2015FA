{
 "metadata": {
  "name": "",
  "signature": "sha256:1d916a712a1924efcd4439460c0664a8372cbbe30002835a082906e26dfb23c4"
 },
 "nbformat": 3,
 "nbformat_minor": 0,
 "worksheets": [
  {
   "cells": [
    {
     "cell_type": "code",
     "collapsed": false,
     "input": [
      "%pylab inline\n",
      "import matplotlib.pyplot as plt\n",
      "import pandas as pd\n",
      "from glob import glob\n",
      "from collections import namedtuple"
     ],
     "language": "python",
     "metadata": {},
     "outputs": []
    },
    {
     "cell_type": "code",
     "collapsed": false,
     "input": [
      "Result = namedtuple('Result', 'subject event condition')\n",
      "Event = namedtuple('Event', 'timestamp value')"
     ],
     "language": "python",
     "metadata": {},
     "outputs": []
    },
    {
     "cell_type": "code",
     "collapsed": false,
     "input": [
      "input_file_pattern = '*_*.txt'\n",
      "\n",
      "start_time = -100   # ms\n",
      "sample_interval = 4 # ms\n",
      "\n",
      "cz_channels = (31, 80, 129)\n",
      "cz_start_time, cz_end_time = 500, 848 # ms\n",
      "\n",
      "pz_channels = (62, 67, 72, 77)\n",
      "pz_start_time, pz_end_time = 248, 600 # ms"
     ],
     "language": "python",
     "metadata": {},
     "outputs": []
    },
    {
     "cell_type": "code",
     "collapsed": false,
     "input": [
      "def convert_to_channel(x):\n",
      "    return x + 1\n",
      "\n",
      "def time_conversion_function(start_time, sample_interval):\n",
      "    def conversion(x):\n",
      "        return start_time + x * sample_interval\n",
      "    return conversion"
     ],
     "language": "python",
     "metadata": {},
     "outputs": []
    },
    {
     "cell_type": "code",
     "collapsed": false,
     "input": [
      "result_map = {}\n",
      "\n",
      "for filename in glob(input_file_pattern):\n",
      "    res = Result(*filename[:-4].split('_'))\n",
      "    raw_data = pd.read_csv(filename, header=None)\n",
      "    cleaned_data = raw_data.rename(index=time_conversion_function(start_time, sample_interval), columns=convert_to_channel)\n",
      "    result_map[res] = cleaned_data"
     ],
     "language": "python",
     "metadata": {},
     "outputs": []
    },
    {
     "cell_type": "code",
     "collapsed": false,
     "input": [
      "def average_channel_values(result, channels):\n",
      "    selected_channels = result.loc[:, channels]\n",
      "    return selected_channels.mean(axis=1)\n",
      "\n",
      "def find_maximum_value_in_time_window(time_series, start_time, end_time):\n",
      "    time_slice = time_series.loc[start_time:end_time]\n",
      "    return Event(timestamp=time_slice.idxmax(), value=time_slice.max())"
     ],
     "language": "python",
     "metadata": {},
     "outputs": []
    },
    {
     "cell_type": "code",
     "collapsed": false,
     "input": [
      "def save_figure(waveform, experiment, channel_name, event, start_time, end_time):\n",
      "    title_template = '{subject}|{event}|{condition}|{channel_name}|{event_time}|{event_value}'\n",
      "    title = title_template.format(\n",
      "        subject=experiment.subject,\n",
      "        event=experiment.event,\n",
      "        condition=experiment.condition,\n",
      "        channel_name=channel_name,\n",
      "        event_time=event.timestamp,\n",
      "        event_value=event.value,\n",
      "    )\n",
      "    filename_template = '{subject}_{event}_{condition}_{channel_name}.png'\n",
      "    filename = filename_template.format(\n",
      "        subject=experiment.subject,\n",
      "        event=experiment.event,\n",
      "        condition=experiment.condition,\n",
      "        channel_name=channel_name,\n",
      "    )\n",
      "    print title\n",
      "    print filename\n",
      "    plot_axes = waveform.plot(title=title)\n",
      "\n",
      "    plot_axes.axvline(event.timestamp)\n",
      "    plot_axes.axvline(start_time, color='k',ls='dashed')\n",
      "    plot_axes.axvline(end_time, color='k',ls='dashed')\n",
      "    plot_axes.axhline(event.value)\n",
      "\n",
      "    fig = plot_axes.get_figure()\n",
      "    fig.savefig(filename)\n",
      "    fig.clear()\n"
     ],
     "language": "python",
     "metadata": {},
     "outputs": []
    },
    {
     "cell_type": "code",
     "collapsed": false,
     "input": [
      "for result in sorted(result_map.keys()):\n",
      "    waveform = average_channel_values(result_map[result], cz_channels)\n",
      "    maximal_event = find_maximum_value_in_time_window(waveform, cz_start_time, cz_end_time)\n",
      "    save_figure(waveform, result, 'cz', maximal_event, cz_start_time, cz_end_time)\n",
      "    \n",
      "    waveform = average_channel_values(result_map[result], pz_channels)\n",
      "    maximal_event = find_maximum_value_in_time_window(waveform, pz_start_time, pz_end_time)\n",
      "    save_figure(waveform, result, 'pz', maximal_event, pz_start_time, pz_end_time)\n"
     ],
     "language": "python",
     "metadata": {},
     "outputs": []
    }
   ],
   "metadata": {}
  }
 ]
}