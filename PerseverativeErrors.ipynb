{
 "metadata": {
  "name": "",
  "signature": "sha256:ddee6046ee30c7187ccda743aaab9ab1467ff971da0e8e9242c33c7602b680ef"
 },
 "nbformat": 3,
 "nbformat_minor": 0,
 "worksheets": [
  {
   "cells": [
    {
     "cell_type": "code",
     "collapsed": false,
     "input": [
      "import pandas as pd"
     ],
     "language": "python",
     "metadata": {},
     "outputs": []
    },
    {
     "cell_type": "code",
     "collapsed": false,
     "input": [
      "f = open('C:\\Users\\Sarah\\Desktop\\OSStats\\July7subs.txt')"
     ],
     "language": "python",
     "metadata": {},
     "outputs": []
    },
    {
     "cell_type": "code",
     "collapsed": false,
     "input": [
      "data = pd.read_csv(f, sep='\\t', header=0)\n",
      "data2 = data.loc[:,\n",
      "    ('Subject','CueFileName', 'StimFileName', 'Stimulus.ACC', 'Stimulus.RESP', 'SwitchCondition')]\n",
      "data3 = data2[data2['Stimulus.ACC'] == 0]\n",
      "data4 = data3[data3['SwitchCondition'] != 'Null']\n",
      "data4_1 = data4[data4['Stimulus.RESP'] != '1']\n",
      "data5 = data4_1[data4_1['Stimulus.RESP'].notnull()]"
     ],
     "language": "python",
     "metadata": {},
     "outputs": []
    },
    {
     "cell_type": "code",
     "collapsed": false,
     "input": [
      "# This remaps the StimFileName attribute into its two components colourshape.bmp -> Stim_Colour=colour, Stim_Shape=shape\n",
      "Stim_Colour_map= {'greenshell.bmp':'green', 'purpleshell.bmp':'purple', 'greenstar.bmp':'green', 'purplestar.bmp':'purple'}\n",
      "Stim_Shape_map={'greenshell.bmp':'shell', 'purpleshell.bmp':'shell', 'greenstar.bmp':'star', 'purplestar.bmp':'star'}\n",
      "Stim_Colour = data5['StimFileName'].apply(lambda x: Stim_Colour_map[x])\n",
      "Stim_Shape = data5['StimFileName'].apply(lambda x: Stim_Shape_map[x])\n",
      "data5['Stim_Colour'] = Stim_Colour\n",
      "data5['Stim_Shape'] = Stim_Shape\n",
      "del data5['StimFileName']"
     ],
     "language": "python",
     "metadata": {},
     "outputs": []
    },
    {
     "cell_type": "code",
     "collapsed": false,
     "input": [
      "# this will drop the '.bmp' from the Stimulus.RESP\n",
      "Resp = data5['Stimulus.RESP'].apply(lambda x: x.split('.')[0])\n",
      "data5['Resp']= Resp\n",
      "del data5['Stimulus.RESP']"
     ],
     "language": "python",
     "metadata": {},
     "outputs": []
    },
    {
     "cell_type": "code",
     "collapsed": false,
     "input": [
      "# This will determine whether Resp is one of the attributes of the Stimulus, making it a perseverative error\n",
      "# rather than a random error\n",
      "\n",
      "PersevError = data5.apply(lambda x: x['Stim_Colour']==x.Resp or x.Stim_Shape==x.Resp, axis=1)\n",
      "data6= pd.DataFrame(data5)\n",
      "data6['PersevError'] = PersevError"
     ],
     "language": "python",
     "metadata": {},
     "outputs": []
    },
    {
     "cell_type": "code",
     "collapsed": false,
     "input": [
      "# this will sum the perseverative errors by Subject data6.groupby('Subject').groups\n",
      "data7 = data6.loc[: ,['Subject', 'CueFileName', 'SwitchCondition', 'PersevError']]\n",
      "data8 = data7.groupby(['Subject', 'CueFileName', 'SwitchCondition']).sum()\n",
      "data8.to_csv('C:/Users/Sarah/Desktop/PersevErrorsAug7.csv')"
     ],
     "language": "python",
     "metadata": {},
     "outputs": []
    }
   ],
   "metadata": {}
  }
 ]
}